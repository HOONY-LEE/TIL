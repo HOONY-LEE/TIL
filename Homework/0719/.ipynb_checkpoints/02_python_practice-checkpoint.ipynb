{
 "cells": [
  {
   "cell_type": "markdown",
   "metadata": {},
   "source": [
    "# Python Practice 02\n",
    "\n",
    "\n",
    "\n"
   ]
  },
  {
   "cell_type": "markdown",
   "metadata": {},
   "source": [
    "## Practice 1 : 자판기 메뉴 표현하기\n",
    "\n",
    "### 목표 : Python 기초 문법 익히기 (변수, 할당,  연산자, 연산자 우선순위)\n",
    "\n",
    "> (1) 다음과 같은 자판기 메뉴를 변수의 할당을 사용하여 표현합니다. <br> (HINT) 가격은 계산하기 편한 자료형을 사용합니다.\n",
    "\n",
    "1. 콜라 500원\n",
    "2. 사이다 700원\n",
    "3. 레모네이드 4500원\n",
    "4. 오렌지주스 2000원\n",
    "5. 초코우유 1200원\n",
    "6. 아메리카노 3600원"
   ]
  },
  {
   "cell_type": "code",
   "execution_count": 1,
   "metadata": {},
   "outputs": [],
   "source": [
    "coke = 500\n",
    "sprite = 700\n",
    "lemonade = 4500\n",
    "orange_juice = 2000\n",
    "chocolate_milk = 1200\n",
    "americano = 3600"
   ]
  },
  {
   "cell_type": "markdown",
   "metadata": {},
   "source": [
    "> (2) 김싸피의 현재 소지 금액은 30,000원입니다. <br>\n",
    "김싸피는 콜라와 사이다는 2개씩, 나머지 메뉴는 모두 1개씩 구매하려고 합니다. <br>\n",
    "(1)의 결과를 활용하여 거스름돈을 계산한 후 출력합니다.\n",
    "\n",
    "[변수 설명]\n",
    "\n",
    "* money : 김싸피의 현재 소지 금액\n",
    "* change : 거스름돈"
   ]
  },
  {
   "cell_type": "code",
   "execution_count": 2,
   "metadata": {},
   "outputs": [
    {
     "name": "stdout",
     "output_type": "stream",
     "text": [
      "16300\n"
     ]
    }
   ],
   "source": [
    "money = 30000\n",
    "change = money - coke * 2 - sprite * 2 - lemonade - orange_juice - chocolate_milk - americano\n",
    "print(change)\n"
   ]
  },
  {
   "cell_type": "markdown",
   "metadata": {},
   "source": [
    "## Practice 2 : 항구의 배 표시하기\n",
    "\n",
    "### 목표 : 리스트 익히기(생성과 접근, 인덱싱, 슬라이싱)\n",
    "\n",
    "> (1) 리스트를 사용하여 다음의 상황을 표현한 후 항구 정보를 출력합니다.\n",
    "\n",
    "싸피국의 항구는 가로로 긴 모양을 하고 있으며, 총 15대의 배가 동시에 입항할 수 있습니다.\n",
    "선착장 번호는 왼쪽 끝인 1번부터 오른쪽 끝인 15번까지 존재합니다.\n",
    "현재 4번, 8번, 9번, 15번 선착장에 배가 들어와 있습니다.\n",
    "\n",
    "[변수 설명]\n",
    "\n",
    "* ports : 항구\n",
    "\n",
    "[요구 사항]\n",
    "\n",
    "1. 항구 정보를 리스트로 표현합니다.\n",
    "2. 배가 있으면 True, 없으면 False로 표기합니다.\n",
    "3. 4번, 8번, 9번, 15번 선착장은 배가 있음을 표기합니다.\n",
    "4. 모든 배에 대해서 항구 정보를 출력합니다."
   ]
  },
  {
   "cell_type": "code",
   "execution_count": 8,
   "metadata": {},
   "outputs": [
    {
     "name": "stdout",
     "output_type": "stream",
     "text": [
      "[False, False, False, True, False, False, False, True, True, False, False, False, False, False, True]\n"
     ]
    }
   ],
   "source": [
    "ports = [False] *15\n",
    "ports[3] = True\n",
    "ports[7] = True\n",
    "ports[8] = True\n",
    "ports[14] = True\n",
    "print(ports)\n"
   ]
  },
  {
   "cell_type": "markdown",
   "metadata": {},
   "source": [
    "> (2) 항구를 관리하는 김싸피는, 홀수 선착장의 현황만 따로 추려서 보고자 합니다. <br> (1)의 결과를 활용하여, 홀수 선착장의 번호를 갖는 리스트를 만들어서 출력합니다.\n",
    "\n",
    "[변수 설명]\n",
    "\n",
    "* odd_ports : 홀수 선착장 정보"
   ]
  },
  {
   "cell_type": "code",
   "execution_count": 10,
   "metadata": {},
   "outputs": [
    {
     "data": {
      "text/plain": [
       "[False, False, False, False, True, False, False, True]"
      ]
     },
     "execution_count": 10,
     "metadata": {},
     "output_type": "execute_result"
    }
   ],
   "source": [
    "odd_ports = ports[0::2]\n",
    "odd_ports"
   ]
  },
  {
   "cell_type": "markdown",
   "metadata": {},
   "source": [
    "## Practice 3 : 로또 당첨 여부 확인하기\n",
    "\n",
    "### 목표 : Set 자료구조 활용 및 연산자 숙달\n",
    "\n",
    "> 김싸피가 수동으로 구매한 로또 번호는 1, 12, 27, 33, 38, 42입니다. <br>\n",
    "해당 회차의 로또 당첨 번호는 7, 15, 27, 33, 37, 42입니다. <br>\n",
    "김싸피가 고른 번호들과 로또 당첨 번호를 Set을 활용해 표현하고, 몇 개의 번호가 맞았는지 출력합니다.\n",
    "\n",
    "[변수 설명]\n",
    "\n",
    "* ssafy_choice : 김싸피가 고른 번호 목록\n",
    "* lucky_numbers : 해당 회차의 로또 당첨 번호 목록\n",
    "* count : 몇 개의 번호가 맞았는지 세는 변수"
   ]
  },
  {
   "cell_type": "code",
   "execution_count": 15,
   "metadata": {},
   "outputs": [
    {
     "name": "stdout",
     "output_type": "stream",
     "text": [
      "3\n"
     ]
    }
   ],
   "source": [
    "ssafy_choice = {1, 12, 27, 33, 38, 42}\n",
    "lucky_numbers = {7, 15, 27, 33, 37, 42}\n",
    "count = len(lucky_numbers & ssafy_choice)\n",
    "print(count)"
   ]
  },
  {
   "cell_type": "markdown",
   "metadata": {},
   "source": [
    "## Practice 4 : 도시 정보 구조화하기\n",
    "\n",
    "### 목표 : 리스트, 딕셔너리 컨테이너 숙달\n",
    "\n",
    "> (1) 싸피국은 수도인 A 도시와 일반 도시인 B 도시가 있습니다. <br>\n",
    "싸피국은 매일 두 도시의 이산화탄소 및 산소 농도를 조사하는데, <br>\n",
    "김싸피는 분석기로부터 얻은 데이터를 리스트 및 딕셔너리를 활용해 구조화하려 합니다. <br>\n",
    "자세한 구조는 변수 설명과 딕셔너리 키 설명을 참고합니다.\n",
    "\n",
    "[변수 설명]\n",
    "\n",
    "* air_info\n",
    "    - 두 도시의 정보를 담는 리스트입니다.\n",
    "    - 두 도시의 정보는 각각 딕셔너리 형태입니다.\n",
    "\n",
    "[각 도시의 정보]\n",
    "\n",
    "* name : 도시 이름\n",
    "* capital : 수도 여부\n",
    "* air_status : 대기 정보 (딕셔너리)\n",
    "    * O2 : 산소 농도\n",
    "    * CO2 : 이산화탄소 농도\n",
    "    \n",
    "[요구 사항]\n",
    "1. A 도시 : 도시 이름은 A이며, 수도입니다. 산소 농도는 3이며, 이산화탄소 농도는 2입니다.\n",
    "2. B 도시 : 도시 이름은 B이며, 수도가 아닙니다. 산소 농도는 5이며, 이산화탄소 농도는 3입니다.\n"
   ]
  },
  {
   "cell_type": "code",
   "execution_count": 25,
   "metadata": {},
   "outputs": [
    {
     "data": {
      "text/plain": [
       "[{'name': 'A', 'capital': True, 'air_status': {'O2': 3, 'CO2': 2}},\n",
       " {'name': 'B', 'capital': False, 'air_status': {'O2': 5, 'CO2': 3}}]"
      ]
     },
     "execution_count": 25,
     "metadata": {},
     "output_type": "execute_result"
    }
   ],
   "source": [
    "air_info = [ {'name' : 'A', 'capital' : True , 'air_status' : {'O2' : 3 , 'CO2' : 2}}, \n",
    "           {'name' : 'B', 'capital' : False , 'air_status' : {'O2' : 5 , 'CO2' : 3}} ]\n",
    "air_info"
   ]
  },
  {
   "cell_type": "markdown",
   "metadata": {},
   "source": [
    "> (2) 김싸피는 두 도시의 산소 농도 정보만을 모아서 정리하고자 합니다. 변수 설명을 참고하여 정리된 정보를 출력합니다.\n",
    "\n",
    "[변수 설명]\n",
    "\n",
    "O2_info : 두 도시의 산소 농도 값을 모은 리스트"
   ]
  },
  {
   "cell_type": "code",
   "execution_count": 69,
   "metadata": {},
   "outputs": [
    {
     "data": {
      "text/plain": [
       "[3, 5]"
      ]
     },
     "execution_count": 69,
     "metadata": {},
     "output_type": "execute_result"
    }
   ],
   "source": [
    "o2_list = [ air_info[0]['air_status']['O2'] , air_info[1]['air_status']['O2']]\n",
    "o2_list"
   ]
  },
  {
   "cell_type": "code",
   "execution_count": null,
   "metadata": {},
   "outputs": [],
   "source": []
  }
 ],
 "metadata": {
  "kernelspec": {
   "display_name": "Python 3 (ipykernel)",
   "language": "python",
   "name": "python3"
  },
  "language_info": {
   "codemirror_mode": {
    "name": "ipython",
    "version": 3
   },
   "file_extension": ".py",
   "mimetype": "text/x-python",
   "name": "python",
   "nbconvert_exporter": "python",
   "pygments_lexer": "ipython3",
   "version": "3.9.13"
  },
  "toc": {
   "base_numbering": 1,
   "nav_menu": {},
   "number_sections": true,
   "sideBar": true,
   "skip_h1_title": false,
   "title_cell": "Table of Contents",
   "title_sidebar": "Contents",
   "toc_cell": false,
   "toc_position": {},
   "toc_section_display": true,
   "toc_window_display": false
  },
  "varInspector": {
   "cols": {
    "lenName": 16,
    "lenType": 16,
    "lenVar": 40
   },
   "kernels_config": {
    "python": {
     "delete_cmd_postfix": "",
     "delete_cmd_prefix": "del ",
     "library": "var_list.py",
     "varRefreshCmd": "print(var_dic_list())"
    },
    "r": {
     "delete_cmd_postfix": ") ",
     "delete_cmd_prefix": "rm(",
     "library": "var_list.r",
     "varRefreshCmd": "cat(var_dic_list()) "
    }
   },
   "types_to_exclude": [
    "module",
    "function",
    "builtin_function_or_method",
    "instance",
    "_Feature"
   ],
   "window_display": false
  },
  "vscode": {
   "interpreter": {
    "hash": "d275c57e69f9e1b829b59fde36cd6c3fc45afb01a61e0f82462f1857356bb7f3"
   }
  }
 },
 "nbformat": 4,
 "nbformat_minor": 4
}
